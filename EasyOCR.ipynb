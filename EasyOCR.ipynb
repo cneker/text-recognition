{
 "cells": [
  {
   "cell_type": "code",
   "execution_count": null,
   "id": "1a12c5c6",
   "metadata": {},
   "outputs": [],
   "source": [
    "import easyocr\n",
    "import cv2\n",
    "from matplotlib import pyplot as plt"
   ]
  },
  {
   "cell_type": "code",
   "execution_count": null,
   "id": "f8c60846",
   "metadata": {},
   "outputs": [],
   "source": [
    "reader = easyocr.Reader(['ru', 'en'], gpu = True, model_storage_directory = 'model')"
   ]
  },
  {
   "cell_type": "code",
   "execution_count": null,
   "id": "d5ec2ec5",
   "metadata": {},
   "outputs": [],
   "source": [
    "IMAGE_PATH = 'test_images/test.jpg'"
   ]
  },
  {
   "cell_type": "code",
   "execution_count": null,
   "id": "9e3559b9",
   "metadata": {},
   "outputs": [],
   "source": [
    "result = reader.readtext(IMAGE_PATH)\n",
    "result"
   ]
  },
  {
   "cell_type": "code",
   "execution_count": null,
   "id": "a8bfb197",
   "metadata": {},
   "outputs": [],
   "source": [
    "font = cv2.FONT_HERSHEY_COMPLEX\n",
    "img = cv2.imread(IMAGE_PATH)\n",
    "spacer = 100\n",
    "for detection in result: \n",
    "    top_left = tuple(detection[0][0])\n",
    "    bottom_right = tuple(detection[0][2])\n",
    "    text = detection[1]\n",
    "    img = cv2.rectangle(img,(int(top_left[0]), int(top_left[1])), (int(bottom_right[0]), int(bottom_right[1])),(0,255,0),5)\n",
    "    img = cv2.putText(img,text,(20,spacer), font, 1,(0,0,255),2,cv2.LINE_AA)\n",
    "    spacer+=30\n",
    "    \n",
    "plt.imshow(cv2.cvtColor(img, cv2.COLOR_BGR2RGB))"
   ]
  },
  {
   "cell_type": "code",
   "execution_count": null,
   "id": "0ed9a15f",
   "metadata": {},
   "outputs": [],
   "source": [
    "text = ''\n",
    "for detection in result:\n",
    "    text += detection[1] + '\\n'\n",
    "print(text)"
   ]
  },
  {
   "cell_type": "code",
   "execution_count": null,
   "id": "d6b1287a",
   "metadata": {},
   "outputs": [],
   "source": []
  }
 ],
 "metadata": {
  "kernelspec": {
   "display_name": "Python 3 (ipykernel)",
   "language": "python",
   "name": "python3"
  },
  "language_info": {
   "codemirror_mode": {
    "name": "ipython",
    "version": 3
   },
   "file_extension": ".py",
   "mimetype": "text/x-python",
   "name": "python",
   "nbconvert_exporter": "python",
   "pygments_lexer": "ipython3",
   "version": "3.9.13"
  }
 },
 "nbformat": 4,
 "nbformat_minor": 5
}
